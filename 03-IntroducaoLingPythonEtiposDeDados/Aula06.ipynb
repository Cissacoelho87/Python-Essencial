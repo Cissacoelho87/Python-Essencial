{
 "cells": [
  {
   "cell_type": "markdown",
   "id": "92556429-289c-4bdb-9b9c-8559f95058df",
   "metadata": {},
   "source": [
    "Exercícios Práticos - Módulo 3 (Python Básico: Uma Abordagem Mais Detalhada)"
   ]
  },
  {
   "cell_type": "markdown",
   "id": "a0de02af-9ad5-4ee4-8e14-8c72e26eed7f",
   "metadata": {},
   "source": [
    "1. Escreva um programa que leia e exiba o seu nome e a profissão de uma pessoa."
   ]
  },
  {
   "cell_type": "code",
   "execution_count": 2,
   "id": "38a56011-f35f-4ad7-8102-025e518721a2",
   "metadata": {},
   "outputs": [
    {
     "name": "stdin",
     "output_type": "stream",
     "text": [
      "Digite o seu nome:  Cicera\n",
      "Digite sua profissão:  Supervisora\n"
     ]
    },
    {
     "name": "stdout",
     "output_type": "stream",
     "text": [
      "Meu nome é Cicera, minha profissão é Supervisora.\n"
     ]
    }
   ],
   "source": [
    "nome = input(\"Digite o seu nome: \")\n",
    "profissao = input(\"Digite sua profissão: \")\n",
    "print(f\"Meu nome é {nome}, minha profissão é {profissao}.\")"
   ]
  },
  {
   "cell_type": "markdown",
   "id": "e5f3df81-2132-4b68-832b-b231cb4cb257",
   "metadata": {},
   "source": [
    "2. Escreva um programa que leia o ano de nascimento e o ano atual e calcule a idade em anos, meses, dias e semanas."
   ]
  },
  {
   "cell_type": "code",
   "execution_count": 8,
   "id": "cffa9452-3d5d-4e9c-a93e-ab57e2477420",
   "metadata": {},
   "outputs": [
    {
     "name": "stdin",
     "output_type": "stream",
     "text": [
      "Digite o  ano de nascimento:  1987\n",
      "Digite o ano atual:  2025\n"
     ]
    },
    {
     "name": "stdout",
     "output_type": "stream",
     "text": [
      "Sua idade em anos é 38.\n",
      "Sua idade em meses é 456.\n",
      "Sua idade em dias é 13870.\n",
      "Sua idade em semanas é 1981.\n"
     ]
    }
   ],
   "source": [
    "ano_nascimento = int(input(\"Digite o  ano de nascimento: \"))\n",
    "ano_atual = int(input(\"Digite o ano atual: \"))\n",
    "idade_anos = ano_atual - ano_nascimento\n",
    "idade_meses = idade_anos * 12\n",
    "idade_dias = idade_anos * 365\n",
    "idade_semanas = idade_dias // 7\n",
    "\n",
    "print(f\"Sua idade em anos é {idade_anos}.\")\n",
    "print(f\"Sua idade em meses é {idade_meses}.\")\n",
    "print(f\"Sua idade em dias é {idade_dias}.\")\n",
    "print(f\"Sua idade em semanas é {idade_semanas}.\")"
   ]
  },
  {
   "cell_type": "markdown",
   "id": "1fb773cc-9c1b-4137-9bc9-13847c0c8cb6",
   "metadata": {},
   "source": [
    "3. Escreva um programa que calcule o novo salário após um aumento de 25%."
   ]
  },
  {
   "cell_type": "code",
   "execution_count": 11,
   "id": "6dce483a-410e-4039-8100-7eb9473baa52",
   "metadata": {},
   "outputs": [
    {
     "name": "stdin",
     "output_type": "stream",
     "text": [
      "Digite o salário atual:  5.500\n"
     ]
    },
    {
     "name": "stdout",
     "output_type": "stream",
     "text": [
      "O salário novo é 6.875. \n"
     ]
    }
   ],
   "source": [
    "salario_atual = float(input(\"Digite o salário atual: \"))\n",
    "salario_novo = salario_atual * 1.25\n",
    "print(f\"O salário novo é {salario_novo}. \")"
   ]
  },
  {
   "cell_type": "markdown",
   "id": "a1f207d8-6be1-4ad9-983b-f8d8a5e1230b",
   "metadata": {},
   "source": [
    "4. Escreva um programa que calcule a área de um círculo, dado o raio. "
   ]
  },
  {
   "cell_type": "code",
   "execution_count": 13,
   "id": "cf03a6b4-3e0f-4e06-87cb-3b2018911b74",
   "metadata": {},
   "outputs": [
    {
     "name": "stdin",
     "output_type": "stream",
     "text": [
      "Digite o raio do círculo:  10\n"
     ]
    },
    {
     "name": "stdout",
     "output_type": "stream",
     "text": [
      "Área do círculo: 314.1592653589793\n"
     ]
    }
   ],
   "source": [
    "import math\n",
    "raio = float(input(\"Digite o raio do círculo: \"))\n",
    "area = math.pi * (raio ** 2)\n",
    "print(f\"Área do círculo: {area}\")\n",
    "             "
   ]
  },
  {
   "cell_type": "markdown",
   "id": "bff13ecd-dc48-4cd7-88b2-ddda7363848a",
   "metadata": {},
   "source": [
    "5. Escreva um programa que calcule quantos degraus uma pessoa precisa subir para alcançar uma certa altura."
   ]
  },
  {
   "cell_type": "code",
   "execution_count": 17,
   "id": "31090151-4451-4a5b-a501-d12a4aa2074e",
   "metadata": {},
   "outputs": [
    {
     "name": "stdin",
     "output_type": "stream",
     "text": [
      "Digite a altura do degrau:  50\n",
      "Digite a altura do degrau desejada em metros:  1\n"
     ]
    },
    {
     "name": "stdout",
     "output_type": "stream",
     "text": [
      "Você precisa subir 2.0 degraus\n"
     ]
    }
   ],
   "source": [
    "altura_degrau = float(input(\"Digite a altura do degrau: \"))\n",
    "altura_desejada = float(input(\"Digite a altura do degrau desejada em metros: \"))\n",
    "numero_degraus = (altura_desejada * 100) / altura_degrau\n",
    "print(f\"Você precisa subir {numero_degraus} degraus\")\n"
   ]
  },
  {
   "cell_type": "code",
   "execution_count": null,
   "id": "ee31b23b-118b-401b-b0c1-bcfbafc2f687",
   "metadata": {},
   "outputs": [],
   "source": []
  }
 ],
 "metadata": {
  "kernelspec": {
   "display_name": "Python [conda env:base] *",
   "language": "python",
   "name": "conda-base-py"
  },
  "language_info": {
   "codemirror_mode": {
    "name": "ipython",
    "version": 3
   },
   "file_extension": ".py",
   "mimetype": "text/x-python",
   "name": "python",
   "nbconvert_exporter": "python",
   "pygments_lexer": "ipython3",
   "version": "3.12.7"
  }
 },
 "nbformat": 4,
 "nbformat_minor": 5
}
